{
 "cells": [
  {
   "cell_type": "markdown",
   "metadata": {},
   "source": [
    "### 导入相关程序库"
   ]
  },
  {
   "cell_type": "code",
   "execution_count": 1,
   "metadata": {
    "collapsed": true
   },
   "outputs": [],
   "source": [
    "import numpy as np\n",
    "import pandas as pd\n",
    "import matplotlib.pyplot as plt\n",
    "import seaborn as sns\n",
    "import os\n",
    "\n",
    "import warnings\n",
    "warnings.filterwarnings('ignore')\n",
    "\n",
    "%matplotlib inline"
   ]
  },
  {
   "cell_type": "markdown",
   "metadata": {},
   "source": [
    "### 获取KPI名称和KPI ID对应关系"
   ]
  },
  {
   "cell_type": "code",
   "execution_count": 2,
   "metadata": {
    "collapsed": true
   },
   "outputs": [],
   "source": [
    "kpi_id_path = r'D:\\userdata\\anliu\\Desktop'\n",
    "kpi_id_name = r'kpi_id_17a.csv'\n",
    "kpi_id_file = os.path.join(kpi_id_path, kpi_id_name)\n",
    "\n",
    "try:\n",
    "    os.chdir(kpi_id_path)\n",
    "except:\n",
    "    print(\"The folder does not existed!\")\n",
    "    \n",
    "kpi_def = pd.read_csv(kpi_id_file)\n",
    "kpi_def.dropna(axis=1, how='all', inplace=True)\n",
    "\n",
    "def query_kpi_id(kpi_id):   \n",
    "    mask = kpi_def.loc[kpi_def.loc[:, 'KPI ID'] == kpi_id]\n",
    "    \n",
    "    kpi_name = mask['Name'].values[0]\n",
    "    kpi_formula = mask['Formula'].values[0]\n",
    "    kpi_level = mask['Level'].values[0]\n",
    "    \n",
    "    return kpi_id, kpi_name, kpi_formula, kpi_level"
   ]
  },
  {
   "cell_type": "markdown",
   "metadata": {},
   "source": [
    "### 分析KPI数据"
   ]
  },
  {
   "cell_type": "code",
   "execution_count": 3,
   "metadata": {
    "collapsed": true
   },
   "outputs": [],
   "source": [
    "# kpi log所在文件路径\n",
    "kpi_data_path = r'D:\\userdata\\anliu\\Desktop'\n",
    "kpi_data_name = r'test.csv'\n",
    "kpi_data_file = os.path.join(kpi_data_path, kpi_data_name)\n",
    "\n",
    "# 切换到kpi log所在路径\n",
    "try:\n",
    "    os.chdir(kpi_data_path)\n",
    "except:\n",
    "    print(\"The folder does not existed!\")"
   ]
  },
  {
   "cell_type": "markdown",
   "metadata": {},
   "source": [
    "#### 读取eNB软件版本"
   ]
  },
  {
   "cell_type": "code",
   "execution_count": 4,
   "metadata": {
    "collapsed": true
   },
   "outputs": [],
   "source": [
    "# 读取csv文件，返回有效数据起始行数\n",
    "def fetch_sw_version(file):\n",
    "    nrow = 0\n",
    "    with open(file,\"r\") as f:\n",
    "        sw_version = f.readline()\n",
    "        sw_version = sw_version.strip()\n",
    "        sw_version = sw_version.split(',')[0]\n",
    "    \n",
    "    return sw_version"
   ]
  },
  {
   "cell_type": "code",
   "execution_count": 5,
   "metadata": {},
   "outputs": [
    {
     "name": "stdout",
     "output_type": "stream",
     "text": [
      "TL17A_ENB_0000_040029_000000\n"
     ]
    }
   ],
   "source": [
    "print(fetch_sw_version(kpi_data_file))"
   ]
  },
  {
   "cell_type": "markdown",
   "metadata": {},
   "source": [
    "#### 读取KPI数据"
   ]
  },
  {
   "cell_type": "code",
   "execution_count": 6,
   "metadata": {
    "collapsed": true
   },
   "outputs": [],
   "source": [
    "# 从CSV文件中读取数据并存储为dataframe\n",
    "def read_kpi_data(file):\n",
    "    kpi_data = pd.read_csv(file, low_memory=True, skiprows=3, error_bad_lines=False, warn_bad_lines=False)\n",
    "    return kpi_data\n",
    "\n",
    "# 整理数据\n",
    "def clean_up_data(data):  \n",
    "    # 替换第一列名称为Time\n",
    "    names = kpi_data.columns.tolist()\n",
    "    names[names.index('Period start time')] = 'Time'\n",
    "    kpi_data.columns = names\n",
    "    \n",
    "    # 删除值全部为NA的列\n",
    "    kpi_data.dropna(axis=1, how='all', inplace=True)\n",
    "    \n",
    "    kpi_data['Time'] = pd.to_datetime(kpi_data['Time'])\n",
    "    \n",
    "    kpi_data.set_index('Time', inplace=True)\n",
    "\n",
    "    return kpi_data"
   ]
  },
  {
   "cell_type": "markdown",
   "metadata": {},
   "source": [
    "#### 整理数据，获取数据基本信息"
   ]
  },
  {
   "cell_type": "code",
   "execution_count": 7,
   "metadata": {},
   "outputs": [
    {
     "name": "stdout",
     "output_type": "stream",
     "text": [
      "<class 'pandas.core.frame.DataFrame'>\n",
      "DatetimeIndex: 336 entries, 2018-06-15 20:00:00 to 2018-06-19 07:45:00\n",
      "Data columns (total 19 columns):\n",
      "LTE_5017a    336 non-null float64\n",
      "LTE_5025h    336 non-null float64\n",
      "LTE_5137a    336 non-null int64\n",
      "LTE_5134a    336 non-null float64\n",
      "LTE_5216a    336 non-null float64\n",
      "LTE_5441b    336 non-null float64\n",
      "LTE_5444b    336 non-null float64\n",
      "LTE_5541b    336 non-null float64\n",
      "LTE_5544b    336 non-null float64\n",
      "LTE_5427c    336 non-null float64\n",
      "LTE_5432b    336 non-null float64\n",
      "LTE_5292d    336 non-null float64\n",
      "LTE_5289d    336 non-null float64\n",
      "LTE_5276b    336 non-null float64\n",
      "LTE_5273b    336 non-null float64\n",
      "LTE_6265a    336 non-null int64\n",
      "LTE_5646a    336 non-null float64\n",
      "LTE_5471a    336 non-null int64\n",
      "LTE_5218f    336 non-null int64\n",
      "dtypes: float64(15), int64(4)\n",
      "memory usage: 52.5 KB\n",
      "None\n",
      "        LTE_5017a   LTE_5025h  LTE_5137a   LTE_5134a   LTE_5216a   LTE_5441b  \\\n",
      "count  336.000000  336.000000      336.0  336.000000  336.000000  336.000000   \n",
      "mean    99.946807    3.225036        0.0  227.387649    6.265307 -102.666274   \n",
      "std      0.734570    2.220349        0.0    9.132596    0.661208    0.096089   \n",
      "min     89.130000    0.000000        0.0  186.250000    5.186000 -103.352000   \n",
      "25%    100.000000    0.000000        0.0  221.437500    5.716000 -102.724250   \n",
      "50%    100.000000    4.167000        0.0  228.000000    6.117500 -102.672500   \n",
      "75%    100.000000    4.762000        0.0  234.000000    6.757500 -102.610000   \n",
      "max    104.545000    8.696000        0.0  249.250000    8.210000 -102.261000   \n",
      "\n",
      "        LTE_5444b   LTE_5541b   LTE_5544b   LTE_5427c   LTE_5432b  \\\n",
      "count  336.000000  336.000000  336.000000  336.000000  336.000000   \n",
      "mean   -95.655077   10.282021   14.810104   13.604048    0.959613   \n",
      "std      0.468998    0.317937    0.505849    0.100213    0.294385   \n",
      "min    -96.861000    9.176000   13.805000   13.393000   -0.177000   \n",
      "25%    -96.023500   10.080750   14.403750   13.515000    0.793750   \n",
      "50%    -95.586500   10.264500   14.904500   13.555000    1.105500   \n",
      "75%    -95.314500   10.488250   15.180250   13.696000    1.177250   \n",
      "max    -94.269000   11.184000   16.175000   13.913000    1.282000   \n",
      "\n",
      "          LTE_5292d    LTE_5289d   LTE_5276b   LTE_5273b   LTE_6265a  \\\n",
      "count    336.000000   336.000000  336.000000  336.000000  336.000000   \n",
      "mean   57648.752429  4600.937146   49.978646   20.172693    7.309524   \n",
      "std      583.092566   125.149881    0.349968    2.995415    0.632006   \n",
      "min    56116.687000  4187.796000   48.675000   14.725000    6.000000   \n",
      "25%    57264.632000  4505.183500   49.775000   17.768750    7.000000   \n",
      "50%    57636.727000  4619.690500   50.025000   19.437500    7.000000   \n",
      "75%    57964.646000  4703.008000   50.225000   22.431250    8.000000   \n",
      "max    59756.495000  4847.838000   50.625000   27.700000    8.000000   \n",
      "\n",
      "        LTE_5646a  LTE_5471a  LTE_5218f  \n",
      "count  336.000000      336.0      336.0  \n",
      "mean    99.786961        0.0      100.0  \n",
      "std      2.459805        0.0        0.0  \n",
      "min     58.333000        0.0      100.0  \n",
      "25%    100.000000        0.0      100.0  \n",
      "50%    100.000000        0.0      100.0  \n",
      "75%    100.000000        0.0      100.0  \n",
      "max    100.000000        0.0      100.0  \n"
     ]
    }
   ],
   "source": [
    "# 读取整理数据\n",
    "kpi_data = read_kpi_data(kpi_data_file)\n",
    "kpi_data = clean_up_data(kpi_data)\n",
    "print(kpi_data.info())\n",
    "print(kpi_data.describe())"
   ]
  },
  {
   "cell_type": "markdown",
   "metadata": {},
   "source": [
    "#### 打印出KPI ID对应的KPI名字"
   ]
  },
  {
   "cell_type": "code",
   "execution_count": 8,
   "metadata": {},
   "outputs": [
    {
     "name": "stdout",
     "output_type": "stream",
     "text": [
      "LTE_5017a: E-UTRAN E-RAB Setup Success Ratio\n",
      "LTE_5025h: E-UTRAN E-RAB Drop Ratio, RAN View\n",
      "LTE_5137a: E-UTRAN Average Latency Uplink\n",
      "LTE_5134a: E-UTRAN Average Latency Downlink\n",
      "LTE_5216a: E-UTRAN MAC PDU Re-transmission Ratio Downlink\n",
      "LTE_5441b: E-UTRAN Average RSSI for PUCCH\n",
      "LTE_5444b: Average RSSI for PUSCH\n",
      "LTE_5541b: E-UTRAN Average SINR for PUCCH\n",
      "LTE_5544b: E-UTRAN Average SINR for PUSCH\n",
      "LTE_5427c: E-UTRAN Average CQI\n",
      "LTE_5432b: E-UTRAN Average CQI Offset\n",
      "LTE_5292d: E-UTRAN average PDCP Layer Active Cell Throughput DL\n",
      "LTE_5289d: E-UTRAN average PDCP Layer Active Cell Throughput UL\n",
      "LTE_5276b: E-UTRAN average PRB usage per TTI DL\n",
      "LTE_5273b: E-UTRAN Average PRB usage per TTI UL\n",
      "LTE_6265a: E-UTRAN Maximum Number of RRC Connected UEs per cell\n",
      "LTE_5646a: E-UTRAN E-RAB Setup Success Ratio, QCI5\n",
      "LTE_5471a: E-UTRAN Average PDCP SDU Delay in DL, QCI1\n",
      "LTE_5218f: does not existed!\n"
     ]
    }
   ],
   "source": [
    "def read_kpi_name(columns):\n",
    "    for kpi_id in columns:\n",
    "        try:\n",
    "            kpi = query_kpi_id(kpi_id)\n",
    "            print(kpi_id + \": \" + kpi[1])\n",
    "        except:\n",
    "            print(kpi_id + ': does not existed!')\n",
    "\n",
    "read_kpi_name(kpi_data.columns)"
   ]
  },
  {
   "cell_type": "markdown",
   "metadata": {},
   "source": [
    "#### 计算相关系数矩阵"
   ]
  },
  {
   "cell_type": "code",
   "execution_count": 9,
   "metadata": {
    "collapsed": true,
    "scrolled": true
   },
   "outputs": [],
   "source": [
    "def calc_corr(dataframe):\n",
    "    corr = dataframe.corr()\n",
    "    corr.dropna(axis=(0,1), how='all', inplace=True)\n",
    "    sns.heatmap(corr, linewidths = 0.05);\n",
    "    \n",
    "    return corr\n",
    "# np.fill_diagonal(corr.values, np.nan)\n",
    "# mask = corr>0.6\n",
    "# corr = corr[mask]\n",
    "# fig = plt.figure(figsize=(12,8))\n",
    "# sns.heatmap(corr, linewidths = 0.05);\n",
    "# corr.dropna(axis=(0,1), how='all', inplace=True)\n",
    "# print(corr)"
   ]
  },
  {
   "cell_type": "markdown",
   "metadata": {},
   "source": [
    "#### 分析数据"
   ]
  },
  {
   "cell_type": "code",
   "execution_count": 10,
   "metadata": {
    "collapsed": true
   },
   "outputs": [],
   "source": [
    "# 定义KPI组合\n",
    "cell_load = ['LTE_6245a', 'LTE_6265a', 'LTE_5214b', 'LTE_5804c', 'LTE_5242b', 'LTE_5394a', 'LTE_6001a', 'LTE_6002a',\n",
    "             'LTE_5319c', 'LTE_5320b', 'LTE_5672b', 'LTE_5674b', 'LTE_5837b', 'LTE_5838b', 'LTE_5999a', 'LTE_753c', \n",
    "             'LTE_5320b', 'LTE_5656b', ]\n",
    "cell_meas = ['LTE_5368a', 'LTE_5369a', 'LTE_5370a', 'LTE_5371a', 'LTE_5427c', 'LTE_5432b', 'LTE_1552b', 'LTE_1553a',\n",
    "             'LTE_5273b', 'LTE_5276b', 'LTE_5657a']\n",
    "cplane = ['LTE_5017a', 'LTE_5218g', 'LTE_5204c', 'LTE_5693a', 'LTE_5025h', 'LTE_5572f',\n",
    "          'LTE_5035a', 'LTE_5568a', 'LTE_5114a', 'LTE_5048b', 'LTE_5873a', 'LTE_5886a', 'LTE_5082a', 'LTE_5884a', \n",
    "          'LTE_5880a', 'LTE_5882a', 'LTE_5567a']\n",
    "uplane = ['LTE_5292d', 'LTE_5289d', 'LTE_5276b', 'LTE_5273b', 'LTE_1074a', 'LTE_1075a']\n",
    "\n",
    "# 根据counter提取数据\n",
    "def kpi_filter_counter(kpi_data, comb_list):\n",
    "    read_kpi_name(comb_list)\n",
    "    kpi_data = kpi_data.loc[:, comb_list]\n",
    "    kpi_data.dropna(axis=1, how='any', inplace=True)\n",
    "    \n",
    "    return kpi_data\n",
    "\n",
    "# 根据时间提取数据\n",
    "def kpi_filter_time(kpi_data, start, end):\n",
    "    start = pd.to_datetime(start)\n",
    "    end = pd.to_datetime(end)\n",
    "    kpi_data = kpi_data.loc[start:end, :]\n",
    "    \n",
    "    return kpi_data"
   ]
  },
  {
   "cell_type": "code",
   "execution_count": 11,
   "metadata": {},
   "outputs": [
    {
     "name": "stderr",
     "output_type": "stream",
     "text": [
      "D:\\anaconda3\\lib\\site-packages\\sklearn\\ensemble\\weight_boosting.py:29: DeprecationWarning: numpy.core.umath_tests is an internal NumPy module and should not be imported. It will be removed in a future NumPy release.\n",
      "  from numpy.core.umath_tests import inner1d\n"
     ]
    }
   ],
   "source": [
    "# 均值方差检测\n",
    "def outlier_detect_std(sample, data):\n",
    "    upper = np.mean(sample) + 3*np.std(sample)\n",
    "    lower = np.mean(sample) - 3*np.std(sample)\n",
    "    \n",
    "    if (data>upper) or (data<lower):\n",
    "        return False\n",
    "    else:\n",
    "        return True\n",
    "\n",
    "def kpi_outlier_std(kpi_data):\n",
    "    print('=' * 60)\n",
    "    \n",
    "    n = 0\n",
    "    outlier = {}\n",
    "    for i in kpi_data.columns:\n",
    "        f = True\n",
    "        for j, elem in enumerate(kpi_data[i]):\n",
    "            flag = outlier_detect_std(kpi_data[i], elem)       \n",
    "            if flag == False:\n",
    "                if f:\n",
    "                    f = False\n",
    "#                     print(i + ':' + '-'*40)\n",
    "                outlier[j] = outlier.get(j, 0) + 1\n",
    "#                 print(\"{0}th: {1} out of range!\".format(str(j), str(elem)))\n",
    "\n",
    "    outlier_list = sorted(outlier.items(), key=lambda e:e[1], reverse=True)             \n",
    "    print([x[0] for x in outlier_list])\n",
    "                \n",
    "# LOF异常值检测\n",
    "from sklearn.neighbors import LocalOutlierFactor\n",
    "def kpi_outlier_lof(kpi_data):\n",
    "    print('LOF prediction:')\n",
    "    clf = LocalOutlierFactor(n_neighbors=50, contamination=0.1)\n",
    "    y_pred = clf.fit_predict(kpi_data)    \n",
    "    \n",
    "    print([i for i, e in enumerate(y_pred) if e==-1])\n",
    "    \n",
    "\n",
    "# Isolation forest异常值检测\n",
    "from sklearn.ensemble import IsolationForest\n",
    "def kpi_outlier_isoforest(kpi_data):\n",
    "    print('Iosforest prediction:')\n",
    "    clf = IsolationForest(n_estimators=100, n_jobs=-1, contamination=0.1)\n",
    "    clf.fit(kpi_data)\n",
    "\n",
    "    shape = kpi_data.shape[0]\n",
    "    batch = 10**4\n",
    "\n",
    "    y_pred = []\n",
    "    for i in range(int(shape/batch)+1):\n",
    "        start = i * batch\n",
    "        end = (i+1) * batch\n",
    "        test = kpi_data[:][start:end]\n",
    "    \n",
    "        pred = clf.predict(test)\n",
    "        y_pred.extend(pred)\n",
    "\n",
    "        print([i for i, e in enumerate(y_pred) if e==-1])"
   ]
  },
  {
   "cell_type": "code",
   "execution_count": 12,
   "metadata": {},
   "outputs": [
    {
     "name": "stdout",
     "output_type": "stream",
     "text": [
      "============================================================\n",
      "[17, 2, 16, 28, 49, 44]\n",
      "LOF prediction:\n",
      "[4, 16, 33, 34, 41, 44]\n",
      "Iosforest prediction:\n",
      "[0, 2, 16, 17, 24, 29]\n"
     ]
    }
   ],
   "source": [
    "start = '2018/6/15  21:00'\n",
    "end = '2018-06-16 10:0:0'\n",
    "kpi_data_time = kpi_filter_time(kpi_data, start, end)\n",
    "\n",
    "# print(kpi_data.head())\n",
    "kpi_outlier_std(kpi_data_time)\n",
    "\n",
    "kpi_outlier_lof(kpi_data_time)\n",
    "\n",
    "kpi_outlier_isoforest(kpi_data_time)"
   ]
  }
 ],
 "metadata": {
  "kernelspec": {
   "display_name": "Python 3",
   "language": "python",
   "name": "python3"
  },
  "language_info": {
   "codemirror_mode": {
    "name": "ipython",
    "version": 3
   },
   "file_extension": ".py",
   "mimetype": "text/x-python",
   "name": "python",
   "nbconvert_exporter": "python",
   "pygments_lexer": "ipython3",
   "version": "3.6.3"
  },
  "toc": {
   "nav_menu": {},
   "number_sections": true,
   "sideBar": true,
   "skip_h1_title": false,
   "title_cell": "Table of Contents",
   "title_sidebar": "Contents",
   "toc_cell": false,
   "toc_position": {
    "height": "calc(100% - 180px)",
    "left": "10px",
    "top": "150px",
    "width": "272px"
   },
   "toc_section_display": true,
   "toc_window_display": true
  }
 },
 "nbformat": 4,
 "nbformat_minor": 2
}
