{
 "cells": [
  {
   "cell_type": "markdown",
   "metadata": {},
   "source": [
    "### 对SCF文件按tag，attrib进行排序 ###"
   ]
  },
  {
   "cell_type": "code",
   "execution_count": 1,
   "metadata": {},
   "outputs": [],
   "source": [
    "from lxml import etree\n",
    "import os\n",
    "\n",
    "file_path = r'D:\\userdata\\anliu\\Desktop'\n",
    "scf_file = r'BackupCommissioning_BTS1716_BTS_20180109_NBIOT_test.xml'\n",
    "new_scf_file = scf_file.split('.')[0] + '_sorted.' + scf_file.split('.')[1]\n",
    "os.chdir(file_path)"
   ]
  },
  {
   "cell_type": "code",
   "execution_count": 2,
   "metadata": {},
   "outputs": [],
   "source": [
    "tree = etree.parse(scf_file)\n",
    "root = tree.getroot()\n",
    "\n",
    "# http://stackoverflow.link/question/8385358/lxml-sorting-tag-order\n",
    "# https://stackoverflow.com/questions/4233476/sort-a-list-by-multiple-attributes\n",
    "for parents in root.xpath('//*[./*]'): # Search for parent elements\n",
    "    parents[:] = sorted(parents, key=lambda x: (x.tag, x.attrib.keys(), x.attrib.values()))  \n",
    "\n",
    "tree.write(new_scf_file, encoding='utf-8', xml_declaration=True)"
   ]
  },
  {
   "cell_type": "code",
   "execution_count": null,
   "metadata": {},
   "outputs": [],
   "source": []
  }
 ],
 "metadata": {
  "kernelspec": {
   "display_name": "Python 3",
   "language": "python",
   "name": "python3"
  },
  "language_info": {
   "codemirror_mode": {
    "name": "ipython",
    "version": 3
   },
   "file_extension": ".py",
   "mimetype": "text/x-python",
   "name": "python",
   "nbconvert_exporter": "python",
   "pygments_lexer": "ipython3",
   "version": "3.5.2"
  },
  "toc": {
   "colors": {
    "hover_highlight": "#DAA520",
    "navigate_num": "#000000",
    "navigate_text": "#333333",
    "running_highlight": "#FF0000",
    "selected_highlight": "#FFD700",
    "sidebar_border": "#EEEEEE",
    "wrapper_background": "#FFFFFF"
   },
   "moveMenuLeft": true,
   "nav_menu": {
    "height": "12px",
    "width": "252px"
   },
   "navigate_menu": true,
   "number_sections": true,
   "sideBar": true,
   "threshold": 4,
   "toc_cell": false,
   "toc_section_display": "block",
   "toc_window_display": false,
   "widenNotebook": false
  }
 },
 "nbformat": 4,
 "nbformat_minor": 2
}
