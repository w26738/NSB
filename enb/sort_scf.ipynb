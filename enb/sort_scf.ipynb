{
 "cells": [
  {
   "cell_type": "markdown",
   "metadata": {},
   "source": [
    "### 对SCF文件按tag，attrib进行排序 ###"
   ]
  },
  {
   "cell_type": "code",
   "execution_count": 3,
   "metadata": {
    "collapsed": true
   },
   "outputs": [],
   "source": [
    "from lxml import etree\n",
    "import os\n",
    "\n",
    "file_path = r'D:\\userdata\\anliu\\Desktop'\n",
    "scf_file = r'BackupCommissioning_BTS530_201810017_6Cell_OnAir_F+A_IFHO_SRVCC_RxLevMin_2CC_HPV_2ndRRU.xml'\n",
    "new_scf_file = scf_file.split('.')[0] + '_sorted.' + scf_file.split('.')[1]\n",
    "os.chdir(file_path)"
   ]
  },
  {
   "cell_type": "code",
   "execution_count": 4,
   "metadata": {
    "collapsed": true
   },
   "outputs": [],
   "source": [
    "tree = etree.parse(scf_file)\n",
    "root = tree.getroot()\n",
    "\n",
    "# http://stackoverflow.link/question/8385358/lxml-sorting-tag-order\n",
    "# https://stackoverflow.com/questions/4233476/sort-a-list-by-multiple-attributes\n",
    "for parents in root.xpath('//*[./*]'): # Search for parent elements\n",
    "    parents[:] = sorted(parents, key=lambda x: (x.tag, x.attrib.keys(), x.attrib.values()))  \n",
    "\n",
    "tree.write(new_scf_file, encoding='utf-8', xml_declaration=True)"
   ]
  }
 ],
 "metadata": {
  "kernelspec": {
   "display_name": "Python 3",
   "language": "python",
   "name": "python3"
  },
  "language_info": {
   "codemirror_mode": {
    "name": "ipython",
    "version": 3
   },
   "file_extension": ".py",
   "mimetype": "text/x-python",
   "name": "python",
   "nbconvert_exporter": "python",
   "pygments_lexer": "ipython3",
   "version": "3.6.3"
  },
  "toc": {
   "nav_menu": {
    "height": "12px",
    "width": "252px"
   },
   "number_sections": true,
   "sideBar": true,
   "skip_h1_title": false,
   "title_cell": "Table of Contents",
   "title_sidebar": "Contents",
   "toc_cell": false,
   "toc_position": {},
   "toc_section_display": "block",
   "toc_window_display": false
  }
 },
 "nbformat": 4,
 "nbformat_minor": 2
}
