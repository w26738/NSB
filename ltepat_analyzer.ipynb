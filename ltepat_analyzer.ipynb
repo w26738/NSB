{
 "cells": [
  {
   "cell_type": "markdown",
   "metadata": {
    "toc": true
   },
   "source": [
    "<h1>Table of Contents<span class=\"tocSkip\"></span></h1>\n",
    "<div class=\"toc\"><ul class=\"toc-item\"><li><span><a href=\"#分析LTEPAT输出结果\" data-toc-modified-id=\"分析LTEPAT输出结果-1\"><span class=\"toc-item-num\">1&nbsp;&nbsp;</span>分析LTEPAT输出结果</a></span><ul class=\"toc-item\"><li><span><a href=\"#导入相关程序库\" data-toc-modified-id=\"导入相关程序库-1.1\"><span class=\"toc-item-num\">1.1&nbsp;&nbsp;</span>导入相关程序库</a></span></li><li><span><a href=\"#读取文件\" data-toc-modified-id=\"读取文件-1.2\"><span class=\"toc-item-num\">1.2&nbsp;&nbsp;</span>读取文件</a></span></li><li><span><a href=\"#用字典形式存储所有KPI-counter的ID和对应的名字\" data-toc-modified-id=\"用字典形式存储所有KPI-counter的ID和对应的名字-1.3\"><span class=\"toc-item-num\">1.3&nbsp;&nbsp;</span>用字典形式存储所有KPI counter的ID和对应的名字</a></span></li><li><span><a href=\"#分析Excel中指定Sheet的数据\" data-toc-modified-id=\"分析Excel中指定Sheet的数据-1.4\"><span class=\"toc-item-num\">1.4&nbsp;&nbsp;</span>分析Excel中指定Sheet的数据</a></span><ul class=\"toc-item\"><li><span><a href=\"#读取执行sheet的数据\" data-toc-modified-id=\"读取执行sheet的数据-1.4.1\"><span class=\"toc-item-num\">1.4.1&nbsp;&nbsp;</span>读取执行sheet的数据</a></span></li><li><span><a href=\"#整理sheet数据\" data-toc-modified-id=\"整理sheet数据-1.4.2\"><span class=\"toc-item-num\">1.4.2&nbsp;&nbsp;</span>整理sheet数据</a></span></li><li><span><a href=\"#抽取sheet中指定的列\" data-toc-modified-id=\"抽取sheet中指定的列-1.4.3\"><span class=\"toc-item-num\">1.4.3&nbsp;&nbsp;</span>抽取sheet中指定的列</a></span></li><li><span><a href=\"#对指定数据进行可视化\" data-toc-modified-id=\"对指定数据进行可视化-1.4.4\"><span class=\"toc-item-num\">1.4.4&nbsp;&nbsp;</span>对指定数据进行可视化</a></span></li></ul></li></ul></li></ul></div>"
   ]
  },
  {
   "cell_type": "markdown",
   "metadata": {},
   "source": [
    "### 分析LTEPAT输出结果"
   ]
  },
  {
   "cell_type": "markdown",
   "metadata": {},
   "source": [
    "#### 导入相关程序库"
   ]
  },
  {
   "cell_type": "code",
   "execution_count": 3,
   "metadata": {
    "collapsed": true
   },
   "outputs": [],
   "source": [
    "import numpy as np\n",
    "import pandas as pd\n",
    "import matplotlib.pyplot as plt\n",
    "import matplotlib.dates as mdates\n",
    "import seaborn as sns\n",
    "import os\n",
    "% matplotlib inline\n",
    "\n",
    "import warnings\n",
    "warnings.filterwarnings('ignore')"
   ]
  },
  {
   "cell_type": "markdown",
   "metadata": {},
   "source": [
    "#### 读取文件"
   ]
  },
  {
   "cell_type": "code",
   "execution_count": 4,
   "metadata": {},
   "outputs": [
    {
     "ename": "SyntaxError",
     "evalue": "EOL while scanning string literal (<ipython-input-4-441ec4b49763>, line 2)",
     "output_type": "error",
     "traceback": [
      "\u001b[1;36m  File \u001b[1;32m\"<ipython-input-4-441ec4b49763>\"\u001b[1;36m, line \u001b[1;32m2\u001b[0m\n\u001b[1;33m    file_path = r\"D:\\userdata\\anliu\\Desktop\\log\\IRAN\\Snapshot_MRBTS-361641\u001b[0m\n\u001b[1;37m                                                                          ^\u001b[0m\n\u001b[1;31mSyntaxError\u001b[0m\u001b[1;31m:\u001b[0m EOL while scanning string literal\n"
     ]
    }
   ],
   "source": [
    "# 这里的excel文件是LTEPAT处理eNB Snapshot中的PM文件后的输出文件\n",
    "file_path = r\"D:\\userdata\\anliu\\Desktop\\log\\IRAN\\Snapshot_MRBTS-361641\n",
    "file_name = r\"201809071240_PMOutput.xlsx\"\n",
    "\n",
    "os.chdir(file_path)\n",
    "\n",
    "file = os.path.join(file_path, file_name)\n",
    "xls = pd.ExcelFile(file)"
   ]
  },
  {
   "cell_type": "markdown",
   "metadata": {},
   "source": [
    "#### 用字典形式存储所有KPI counter的ID和对应的名字"
   ]
  },
  {
   "cell_type": "code",
   "execution_count": null,
   "metadata": {},
   "outputs": [],
   "source": [
    "def get_counter_name(xls):\n",
    "    counters = {}\n",
    "    for sheet in xls.sheet_names:\n",
    "        if not sheet.startswith('KPI') and not sheet.startswith('Summary') :\n",
    "            sheet_data = xls.parse(sheet)\n",
    "            sheet_data.dropna(how='all', axis=1, inplace=True)\n",
    "            sheet_data.dropna(how='all', axis=0, inplace=True)            \n",
    "            sheet_cols = sheet_data.columns.tolist()[4:]\n",
    "            \n",
    "            for col in sheet_cols:\n",
    "                cid = col.split(':')[0]\n",
    "                name = col.split(':')[1]\n",
    "                counters[cid] = name\n",
    "\n",
    "    return counters\n",
    "\n",
    "counters = get_counter_name(xls)\n",
    "\n",
    "# 将字典内容写入到文件\n",
    "# outfile = r\"D:\\userdata\\anliu\\Desktop\\log\\IRAN\\Snapshot_MRBTS-371324\\test.txt\"\n",
    "# with open(outfile, 'w+') as out:\n",
    "#     for key in counters:\n",
    "#         out.writelines((key + ',' + counters[key] + '\\n'))"
   ]
  },
  {
   "cell_type": "markdown",
   "metadata": {},
   "source": [
    "#### 分析Excel中指定Sheet的数据"
   ]
  },
  {
   "cell_type": "markdown",
   "metadata": {},
   "source": [
    "##### 读取执行sheet的数据"
   ]
  },
  {
   "cell_type": "code",
   "execution_count": null,
   "metadata": {
    "collapsed": true
   },
   "outputs": [],
   "source": [
    "sheet_name = 'LTE_Pwr_and_Qual_UL'\n",
    "# ExcelFile.parse(sheet_name=0, header=0, skiprows=None, skip_footer=0, names=None, index_col=None, \n",
    "#                 usecols=None, parse_dates=False, date_parser=None, na_values=None, thousands=None, \n",
    "#                 convert_float=True, converters=None, true_values=None, false_values=None, squeeze=False, **kwds)\n",
    "# 每张Sheet中后面5行数据是统计数据，不需要\n",
    "data = xls.parse(sheet_name, skipfooter=5)"
   ]
  },
  {
   "cell_type": "markdown",
   "metadata": {},
   "source": [
    "##### 整理sheet数据"
   ]
  },
  {
   "cell_type": "code",
   "execution_count": null,
   "metadata": {},
   "outputs": [],
   "source": [
    "def data_clean_up(data):\n",
    "    # 去掉所有值是NAN的行和列\n",
    "    data.dropna(how='all', axis=1, inplace=True)\n",
    "    data.dropna(how='all', axis=0, inplace=True)\n",
    "    # 合并Date和Time列并转化为datetime格式\n",
    "    Time = data.StartDate.astype(str) + ' ' + data.StartTime.astype(str)\n",
    "    data['Time'] = pd.to_datetime(Time)\n",
    "    data.drop(axis=1, columns=['StartDate', 'StartTime'], inplace=True)\n",
    "    # 将新生成的Time列置为第1列\n",
    "    cols = data.columns.tolist()\n",
    "    cols = cols[-1:] + cols[0:-1]\n",
    "    data = data[cols]\n",
    "    \n",
    "    return data\n",
    "\n",
    "data = data_clean_up(data)"
   ]
  },
  {
   "cell_type": "markdown",
   "metadata": {},
   "source": [
    "##### 抽取sheet中指定的列"
   ]
  },
  {
   "cell_type": "code",
   "execution_count": null,
   "metadata": {},
   "outputs": [],
   "source": [
    "iot = [\n",
    "       'M8005C317:UL_IOT_PUSCH_DIST_BIN_0 (1.0E-1 dB)', 'M8005C318:UL_IOT_PUSCH_DIST_BIN_1 (1.0E-1 dB)',\n",
    "       'M8005C319:UL_IOT_PUSCH_DIST_BIN_2 (1.0E-1 dB)', 'M8005C320:UL_IOT_PUSCH_DIST_BIN_3 (1.0E-1 dB)',\n",
    "       'M8005C321:UL_IOT_PUSCH_DIST_BIN_4 (1.0E-1 dB)', 'M8005C322:UL_IOT_PUSCH_DIST_BIN_5 (1.0E-1 dB)',\n",
    "       'M8005C323:UL_IOT_PUSCH_DIST_BIN_6 (1.0E-1 dB)', 'M8005C324:UL_IOT_PUSCH_DIST_BIN_7 (1.0E-1 dB)',\n",
    "       'M8005C325:UL_IOT_PUSCH_DIST_BIN_8 (1.0E-1 dB)', \n",
    "#        'M8005C233:RSSI_CELL_PUSCH_MEAN (dBm)', 'M8005C283:SINR_CELL_PUSCH_MEAN (dB)'\n",
    "      ]\n",
    "\n",
    "# 仅保留需要处理的columns\n",
    "def data_crop(data, cols):\n",
    "    data_crop = pd.concat([data[['Time', 'baseId', 'localMoid']], data[cols]], axis=1)\n",
    "    \n",
    "    return data_crop\n",
    "\n",
    "data_iot = data_crop(data, iot)"
   ]
  },
  {
   "cell_type": "markdown",
   "metadata": {},
   "source": [
    "##### 对指定数据进行可视化"
   ]
  },
  {
   "cell_type": "code",
   "execution_count": null,
   "metadata": {},
   "outputs": [],
   "source": [
    "def visual_data(data):\n",
    "    grouped_by_cell = data.groupby('localMoid')\n",
    "    # grouped_by_cell.plot(x='Time', y=data_iot.columns[3:12], kind=\"line\", figsize=(16,8))\n",
    "    fig = plt.figure(figsize=(16,24))\n",
    "    n = len(grouped_by_cell)\n",
    "    for i, (name, group) in enumerate(grouped_by_cell):\n",
    "        ax = fig.add_subplot(n, 1, i+1)\n",
    "        group.plot(x='Time', y=group.columns[3:], ax=ax, title=name)    \n",
    "#         days = mdates.DayLocator(interval=1)\n",
    "#         hours = mdates.HourLocator(interval=6)\n",
    "#         ax.xaxis.set_major_locator(days)\n",
    "#         ax.xaxis.set_minor_locator(hours)\n",
    "#         ax.xaxis.set_major_formatter(mdates.DateFormatter('%D'))\n",
    "#         ax.xaxis.set_minor_formatter(mdates.DateFormatter('%H:%M'))\n",
    "#         ax.tick_params(pad=10)\n",
    "#         ax.legend(loc='lower left', bbox_to_anchor=(0.1, 0.3))\n",
    "        ax.xaxis.set_label_coords(0.5, -0.05)\n",
    "    plt.savefig('IoT.jpg')\n",
    "    \n",
    "visual_data(data_iot)"
   ]
  },
  {
   "cell_type": "code",
   "execution_count": null,
   "metadata": {},
   "outputs": [],
   "source": [
    "# 比较不同localMoid的同一列数据\n",
    "grouped_by_cell = data_iot.groupby('localMoid')\n",
    "fig = plt.figure(figsize=(8,6))\n",
    "ax = fig.add_subplot(111)\n",
    "for i, (name, group) in enumerate(grouped_by_cell):\n",
    "    group.plot(x='Time', y=group.columns[3], ax=ax, title='BIN0', label=name)\n",
    "    ax.xaxis.set_label_coords(0.5, -0.05)"
   ]
  }
 ],
 "metadata": {
  "kernelspec": {
   "display_name": "Python 3",
   "language": "python",
   "name": "python3"
  },
  "language_info": {
   "codemirror_mode": {
    "name": "ipython",
    "version": 3
   },
   "file_extension": ".py",
   "mimetype": "text/x-python",
   "name": "python",
   "nbconvert_exporter": "python",
   "pygments_lexer": "ipython3",
   "version": "3.6.3"
  },
  "toc": {
   "nav_menu": {},
   "number_sections": true,
   "sideBar": true,
   "skip_h1_title": true,
   "title_cell": "Table of Contents",
   "title_sidebar": "Contents",
   "toc_cell": true,
   "toc_position": {},
   "toc_section_display": true,
   "toc_window_display": true
  }
 },
 "nbformat": 4,
 "nbformat_minor": 2
}
